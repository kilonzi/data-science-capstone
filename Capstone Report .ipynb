{
    "cells": [
        {
            "metadata": {},
            "cell_type": "markdown",
            "source": "## Using Foursquare Location Data to optimize collection points\n\n### In which mall, should a small scale trader set up a collection point?"
        },
        {
            "metadata": {},
            "cell_type": "markdown",
            "source": "<img src=\"https://www.bigcommerce.com/blog/wp-content/uploads/2016/08/ecommerce-shipping-hero.jpg\" width=\"800\" height=\"400\" />"
        },
        {
            "metadata": {},
            "cell_type": "markdown",
            "source": "### Introduction/Business Problem\n\nCovid has greatly affected the way of life for most people. Some of the most affected include small scale traders/retailers in Nairobi. Their market stalls are closed (except for pickups and deliveries). Buyers too are not allowed into the city center due to containment measures done by the government and fear of contracting CoronaVirus. Sellers are now experiencing huge losses arising from payment of recurring/fixed expenses (rent), zero sales, increased logistics/delivery costs and unrealised return on investment/deadstock. \n\nOn the other hand, Nairobi has 40 shopping malls located across the city (Foursquare API) and near estates with a huge base of their past customers. \n\nThe project seeks to **enable retailers to know where they can set collection points in low cost mall spaces so majority of their customers can just walk and pick their purchases** without risking exposure to COVID. The project will seek to answer the question of where to set up a collection point given past deliveries such that they can still make their sales, serve their customers while meeting government regulations. \n"
        },
        {
            "metadata": {},
            "cell_type": "markdown",
            "source": "### Data"
        },
        {
            "metadata": {},
            "cell_type": "markdown",
            "source": "In addition to the Foursquare location data, the project will use proprietary transaction information/data for the last 12 months obtained under licence from an online shopping site. The data will include categories of items purchased, amount spent and delivery address of the buyer. \n\nThis data contains no personal identification information. \n\nIn future, small scale traders will be able to choose their business features and get special recommendations of where to situate a collection point, physical store or items that can be pre positioned in those collection points. \n"
        },
        {
            "metadata": {},
            "cell_type": "code",
            "source": "",
            "execution_count": null,
            "outputs": []
        }
    ],
    "metadata": {
        "kernelspec": {
            "name": "python3",
            "display_name": "Python 3.6",
            "language": "python"
        },
        "language_info": {
            "name": "python",
            "version": "3.6.9",
            "mimetype": "text/x-python",
            "codemirror_mode": {
                "name": "ipython",
                "version": 3
            },
            "pygments_lexer": "ipython3",
            "nbconvert_exporter": "python",
            "file_extension": ".py"
        }
    },
    "nbformat": 4,
    "nbformat_minor": 1
}