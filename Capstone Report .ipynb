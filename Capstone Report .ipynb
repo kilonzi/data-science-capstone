{
    "cells": [
        {
            "cell_type": "markdown",
            "metadata": {},
            "source": "## Using Foursquare Location Data to optimize collection points\n\n### In which mall, should a small scale trader set up a collection point?"
        },
        {
            "cell_type": "markdown",
            "metadata": {},
            "source": "### Introduction/Business Problem\n\nCovid has greatly affected the way of life for most people. Some of the most affected include small scale traders/retailers in Nairobi. Their market stalls are closed (except for pickups and deliveries). Buyers too are not allowed into the city center due to containment measures done by the government and fear of contracting CoronaVirus. Sellers are now experiencing huge losses arising from payment of recurring/fixed expenses (rent), zero sales, increased logistics/delivery costs and unrealised return on investment/deadstock. \n\nOn the other hand, Nairobi has 40 shopping malls located across the city (Fourspace API) and near estates with a huge base of their past customers. \n\nThe project seeks to **enable retailers to know where they can set collection points in low cost mall spaces so majority of their customers can just walk and pick their purchases** without risking exposure to COVID. The project will seek to answer the question of where to set up a collection point given past deliveries such that they can still make their sales, serve their customers while meeting government regulations. \n"
        },
        {
            "cell_type": "markdown",
            "metadata": {},
            "source": "### Data"
        },
        {
            "cell_type": "code",
            "execution_count": null,
            "metadata": {},
            "outputs": [],
            "source": ""
        }
    ],
    "metadata": {
        "kernelspec": {
            "display_name": "Python 3.6",
            "language": "python",
            "name": "python3"
        },
        "language_info": {
            "codemirror_mode": {
                "name": "ipython",
                "version": 3
            },
            "file_extension": ".py",
            "mimetype": "text/x-python",
            "name": "python",
            "nbconvert_exporter": "python",
            "pygments_lexer": "ipython3",
            "version": "3.6.9"
        }
    },
    "nbformat": 4,
    "nbformat_minor": 1
}